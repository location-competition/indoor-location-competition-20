{
 "cells": [
  {
   "cell_type": "code",
   "execution_count": 1,
   "id": "5616bdca",
   "metadata": {},
   "outputs": [],
   "source": [
    "%load_ext autoreload\n",
    "%autoreload 2"
   ]
  },
  {
   "cell_type": "code",
   "execution_count": 2,
   "id": "40cde756",
   "metadata": {},
   "outputs": [],
   "source": [
    "import json\n",
    "import os\n",
    "from pathlib import Path\n",
    "\n",
    "\n",
    "import numpy as np\n",
    "\n",
    "from compute_f import split_ts_seq, compute_step_positions\n",
    "from io_f import read_data_file\n",
    "from visualize_f import visualize_trajectory, visualize_heatmap, save_figure_to_html\n",
    "\n",
    "floor_data_dir = './data/site1/F1'\n",
    "path_data_dir = floor_data_dir + '/path_data_files'\n",
    "floor_plan_filename = floor_data_dir + '/floor_image.png'\n",
    "floor_info_filename = floor_data_dir + '/floor_info.json'\n",
    "\n",
    "save_dir = './output/site1/F1'\n",
    "path_image_save_dir = save_dir + '/path_images'\n",
    "step_position_image_save_dir = save_dir\n",
    "magn_image_save_dir = save_dir\n",
    "wifi_image_save_dir = save_dir + '/wifi_images'\n",
    "ibeacon_image_save_dir = save_dir + '/ibeacon_images'\n",
    "wifi_count_image_save_dir = save_dir"
   ]
  },
  {
   "cell_type": "code",
   "execution_count": 3,
   "id": "6f78f587",
   "metadata": {},
   "outputs": [],
   "source": [
    "Path(path_image_save_dir).mkdir(parents=True, exist_ok=True)\n",
    "Path(magn_image_save_dir).mkdir(parents=True, exist_ok=True)\n",
    "Path(wifi_image_save_dir).mkdir(parents=True, exist_ok=True)\n",
    "Path(ibeacon_image_save_dir).mkdir(parents=True, exist_ok=True)\n",
    "\n",
    "with open(floor_info_filename) as f:\n",
    "    floor_info = json.load(f)\n",
    "width_meter = floor_info[\"map_info\"][\"width\"]\n",
    "height_meter = floor_info[\"map_info\"][\"height\"]"
   ]
  },
  {
   "cell_type": "markdown",
   "id": "2e4e7753",
   "metadata": {},
   "source": [
    "# Investigating a trace file"
   ]
  },
  {
   "cell_type": "code",
   "execution_count": 14,
   "id": "3d1d15cd",
   "metadata": {},
   "outputs": [],
   "source": [
    "from tqdm.auto import tqdm\n",
    "from ipywidgets import interact, interactive, fixed, interact_manual\n",
    "import ipywidgets as widgets"
   ]
  },
  {
   "cell_type": "code",
   "execution_count": 36,
   "id": "3509289c",
   "metadata": {},
   "outputs": [],
   "source": [
    "path_filenames = list(Path(path_data_dir).resolve().glob(\"*.txt\"))\n",
    "path_filenames = path_filenames[:10]"
   ]
  },
  {
   "cell_type": "code",
   "execution_count": 37,
   "id": "2dd3051b",
   "metadata": {},
   "outputs": [
    {
     "data": {
      "application/vnd.jupyter.widget-view+json": {
       "model_id": "c7eb1e3a08ad45be85b953bdc151085d",
       "version_major": 2,
       "version_minor": 0
      },
      "text/plain": [
       "  0%|          | 0/10 [00:00<?, ?it/s]"
      ]
     },
     "metadata": {},
     "output_type": "display_data"
    }
   ],
   "source": [
    "# Collect ground truth trajectories (path_id, [(time, x, y)])\n",
    "gts = []\n",
    "for path_filename in tqdm(path_filenames):\n",
    "    path_data = read_data_file(path_filename)\n",
    "    path_id = path_filename.name.split(\".\")[0]\n",
    "    gts.append((path_id, path_data.waypoint))"
   ]
  },
  {
   "cell_type": "code",
   "execution_count": 38,
   "id": "e9703c26",
   "metadata": {},
   "outputs": [
    {
     "data": {
      "application/vnd.jupyter.widget-view+json": {
       "model_id": "2463b2d63e4c4d938361c81f2f143863",
       "version_major": 2,
       "version_minor": 0
      },
      "text/plain": [
       "  0%|          | 0/10 [00:00<?, ?it/s]"
      ]
     },
     "metadata": {},
     "output_type": "display_data"
    }
   ],
   "source": [
    "# Building figs\n",
    "figs = []\n",
    "for path_id, waypoint in tqdm(gts):\n",
    "    figs.append(visualize_trajectory(waypoint[:, 1:3], floor_plan_filename, width_meter, height_meter, title=path_id, show=False, plot_width=700))"
   ]
  },
  {
   "cell_type": "code",
   "execution_count": 39,
   "id": "1ee07d72",
   "metadata": {},
   "outputs": [
    {
     "data": {
      "application/vnd.jupyter.widget-view+json": {
       "model_id": "c8d2f6958d94447388355c29cd6f03ae",
       "version_major": 2,
       "version_minor": 0
      },
      "text/plain": [
       "  0%|          | 0/10 [00:00<?, ?it/s]"
      ]
     },
     "metadata": {},
     "output_type": "display_data"
    }
   ],
   "source": [
    "# Computing stats\n",
    "# ToDo: use integrations/helper.py > to_plt to convert data to Geolife plt file to use all Stats utils\n",
    "stats = []\n",
    "for _, waypoint in tqdm(gts):\n",
    "    # Collect nb of points, times between waypoints, speeds, ...\n",
    "    pass"
   ]
  },
  {
   "cell_type": "code",
   "execution_count": 40,
   "id": "41f0bffd",
   "metadata": {},
   "outputs": [
    {
     "data": {
      "application/vnd.jupyter.widget-view+json": {
       "model_id": "bda844ffaf53409c833efdc0406c24f8",
       "version_major": 2,
       "version_minor": 0
      },
      "text/plain": [
       "interactive(children=(IntSlider(value=5, description='i', max=9), Output()), _dom_classes=('widget-interact',)…"
      ]
     },
     "metadata": {},
     "output_type": "display_data"
    }
   ],
   "source": [
    "@interact(\n",
    "    i=widgets.IntSlider(min=0, max=len(figs) - 1, step=1, value=5)\n",
    ")\n",
    "def show_path(i):\n",
    "    figs[i].show()"
   ]
  },
  {
   "cell_type": "code",
   "execution_count": null,
   "id": "04599762",
   "metadata": {},
   "outputs": [],
   "source": []
  }
 ],
 "metadata": {
  "kernelspec": {
   "display_name": "all",
   "language": "python",
   "name": "all"
  },
  "language_info": {
   "codemirror_mode": {
    "name": "ipython",
    "version": 3
   },
   "file_extension": ".py",
   "mimetype": "text/x-python",
   "name": "python",
   "nbconvert_exporter": "python",
   "pygments_lexer": "ipython3",
   "version": "3.9.10"
  }
 },
 "nbformat": 4,
 "nbformat_minor": 5
}
